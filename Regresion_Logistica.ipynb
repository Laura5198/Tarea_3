{
 "cells": [
  {
   "cell_type": "code",
   "execution_count": 27,
   "id": "4fa120e2-aec4-45d5-9a8e-95fae14d095f",
   "metadata": {},
   "outputs": [],
   "source": [
    "# cargar las librerias necesarias\n",
    "\n",
    "import pandas as pd # Manejo y analisis de estructura de datos\n",
    "import numpy as np # Cálculo númerico y el analisis de datos \n",
    "import seaborn as sns # Creación gráficos estadísticos\n",
    "import matplotlib.pyplot as plt # Creación de graficos en dos dimesnsiones \n",
    "\n",
    "# Librerías para implementar modelos de ciencia de datos\n",
    "from sklearn import metrics\n",
    "from sklearn.model_selection import train_test_split\n",
    "from sklearn.linear_model import LogisticRegression\n",
    "from sklearn.metrics import classification_report, confusion_matrix "
   ]
  },
  {
   "cell_type": "code",
   "execution_count": 31,
   "id": "57e33148-9e6d-4146-bfa2-f2ef6a259745",
   "metadata": {},
   "outputs": [],
   "source": [
    "#Lectura de datos en python y lo cargamos en la variable Datos\n",
    "\n",
    "Datos = pd.read_csv('C:/Users/LAURA/Downloads/ANALISIS_DE_DATOS/Tarea_3/heart_cleveland_upload.csv')"
   ]
  },
  {
   "cell_type": "code",
   "execution_count": null,
   "id": "18ddcf4a-0d4c-4f11-ba9c-bf32e5c49e92",
   "metadata": {},
   "outputs": [],
   "source": [
    "1) Realizar un análisis exploratorio de los datos para identificar \n",
    "relaciones entre variables, valores atípicos, tendencias, etc. "
   ]
  },
  {
   "cell_type": "code",
   "execution_count": 39,
   "id": "14e8a4ab-4d19-4fc3-8e9e-494071b39b8e",
   "metadata": {},
   "outputs": [
    {
     "data": {
      "text/html": [
       "<div>\n",
       "<style scoped>\n",
       "    .dataframe tbody tr th:only-of-type {\n",
       "        vertical-align: middle;\n",
       "    }\n",
       "\n",
       "    .dataframe tbody tr th {\n",
       "        vertical-align: top;\n",
       "    }\n",
       "\n",
       "    .dataframe thead th {\n",
       "        text-align: right;\n",
       "    }\n",
       "</style>\n",
       "<table border=\"1\" class=\"dataframe\">\n",
       "  <thead>\n",
       "    <tr style=\"text-align: right;\">\n",
       "      <th></th>\n",
       "      <th>age</th>\n",
       "      <th>sex</th>\n",
       "      <th>cp</th>\n",
       "      <th>trestbps</th>\n",
       "      <th>chol</th>\n",
       "      <th>fbs</th>\n",
       "      <th>restecg</th>\n",
       "      <th>thalach</th>\n",
       "      <th>exang</th>\n",
       "      <th>oldpeak</th>\n",
       "      <th>slope</th>\n",
       "      <th>ca</th>\n",
       "      <th>thal</th>\n",
       "      <th>condition</th>\n",
       "    </tr>\n",
       "  </thead>\n",
       "  <tbody>\n",
       "    <tr>\n",
       "      <th>0</th>\n",
       "      <td>69</td>\n",
       "      <td>1</td>\n",
       "      <td>0</td>\n",
       "      <td>160</td>\n",
       "      <td>234</td>\n",
       "      <td>1</td>\n",
       "      <td>2</td>\n",
       "      <td>131</td>\n",
       "      <td>0</td>\n",
       "      <td>0.1</td>\n",
       "      <td>1</td>\n",
       "      <td>1</td>\n",
       "      <td>0</td>\n",
       "      <td>0</td>\n",
       "    </tr>\n",
       "    <tr>\n",
       "      <th>1</th>\n",
       "      <td>69</td>\n",
       "      <td>0</td>\n",
       "      <td>0</td>\n",
       "      <td>140</td>\n",
       "      <td>239</td>\n",
       "      <td>0</td>\n",
       "      <td>0</td>\n",
       "      <td>151</td>\n",
       "      <td>0</td>\n",
       "      <td>1.8</td>\n",
       "      <td>0</td>\n",
       "      <td>2</td>\n",
       "      <td>0</td>\n",
       "      <td>0</td>\n",
       "    </tr>\n",
       "    <tr>\n",
       "      <th>2</th>\n",
       "      <td>66</td>\n",
       "      <td>0</td>\n",
       "      <td>0</td>\n",
       "      <td>150</td>\n",
       "      <td>226</td>\n",
       "      <td>0</td>\n",
       "      <td>0</td>\n",
       "      <td>114</td>\n",
       "      <td>0</td>\n",
       "      <td>2.6</td>\n",
       "      <td>2</td>\n",
       "      <td>0</td>\n",
       "      <td>0</td>\n",
       "      <td>0</td>\n",
       "    </tr>\n",
       "    <tr>\n",
       "      <th>3</th>\n",
       "      <td>65</td>\n",
       "      <td>1</td>\n",
       "      <td>0</td>\n",
       "      <td>138</td>\n",
       "      <td>282</td>\n",
       "      <td>1</td>\n",
       "      <td>2</td>\n",
       "      <td>174</td>\n",
       "      <td>0</td>\n",
       "      <td>1.4</td>\n",
       "      <td>1</td>\n",
       "      <td>1</td>\n",
       "      <td>0</td>\n",
       "      <td>1</td>\n",
       "    </tr>\n",
       "    <tr>\n",
       "      <th>4</th>\n",
       "      <td>64</td>\n",
       "      <td>1</td>\n",
       "      <td>0</td>\n",
       "      <td>110</td>\n",
       "      <td>211</td>\n",
       "      <td>0</td>\n",
       "      <td>2</td>\n",
       "      <td>144</td>\n",
       "      <td>1</td>\n",
       "      <td>1.8</td>\n",
       "      <td>1</td>\n",
       "      <td>0</td>\n",
       "      <td>0</td>\n",
       "      <td>0</td>\n",
       "    </tr>\n",
       "    <tr>\n",
       "      <th>...</th>\n",
       "      <td>...</td>\n",
       "      <td>...</td>\n",
       "      <td>...</td>\n",
       "      <td>...</td>\n",
       "      <td>...</td>\n",
       "      <td>...</td>\n",
       "      <td>...</td>\n",
       "      <td>...</td>\n",
       "      <td>...</td>\n",
       "      <td>...</td>\n",
       "      <td>...</td>\n",
       "      <td>...</td>\n",
       "      <td>...</td>\n",
       "      <td>...</td>\n",
       "    </tr>\n",
       "    <tr>\n",
       "      <th>292</th>\n",
       "      <td>40</td>\n",
       "      <td>1</td>\n",
       "      <td>3</td>\n",
       "      <td>152</td>\n",
       "      <td>223</td>\n",
       "      <td>0</td>\n",
       "      <td>0</td>\n",
       "      <td>181</td>\n",
       "      <td>0</td>\n",
       "      <td>0.0</td>\n",
       "      <td>0</td>\n",
       "      <td>0</td>\n",
       "      <td>2</td>\n",
       "      <td>1</td>\n",
       "    </tr>\n",
       "    <tr>\n",
       "      <th>293</th>\n",
       "      <td>39</td>\n",
       "      <td>1</td>\n",
       "      <td>3</td>\n",
       "      <td>118</td>\n",
       "      <td>219</td>\n",
       "      <td>0</td>\n",
       "      <td>0</td>\n",
       "      <td>140</td>\n",
       "      <td>0</td>\n",
       "      <td>1.2</td>\n",
       "      <td>1</td>\n",
       "      <td>0</td>\n",
       "      <td>2</td>\n",
       "      <td>1</td>\n",
       "    </tr>\n",
       "    <tr>\n",
       "      <th>294</th>\n",
       "      <td>35</td>\n",
       "      <td>1</td>\n",
       "      <td>3</td>\n",
       "      <td>120</td>\n",
       "      <td>198</td>\n",
       "      <td>0</td>\n",
       "      <td>0</td>\n",
       "      <td>130</td>\n",
       "      <td>1</td>\n",
       "      <td>1.6</td>\n",
       "      <td>1</td>\n",
       "      <td>0</td>\n",
       "      <td>2</td>\n",
       "      <td>1</td>\n",
       "    </tr>\n",
       "    <tr>\n",
       "      <th>295</th>\n",
       "      <td>35</td>\n",
       "      <td>0</td>\n",
       "      <td>3</td>\n",
       "      <td>138</td>\n",
       "      <td>183</td>\n",
       "      <td>0</td>\n",
       "      <td>0</td>\n",
       "      <td>182</td>\n",
       "      <td>0</td>\n",
       "      <td>1.4</td>\n",
       "      <td>0</td>\n",
       "      <td>0</td>\n",
       "      <td>0</td>\n",
       "      <td>0</td>\n",
       "    </tr>\n",
       "    <tr>\n",
       "      <th>296</th>\n",
       "      <td>35</td>\n",
       "      <td>1</td>\n",
       "      <td>3</td>\n",
       "      <td>126</td>\n",
       "      <td>282</td>\n",
       "      <td>0</td>\n",
       "      <td>2</td>\n",
       "      <td>156</td>\n",
       "      <td>1</td>\n",
       "      <td>0.0</td>\n",
       "      <td>0</td>\n",
       "      <td>0</td>\n",
       "      <td>2</td>\n",
       "      <td>1</td>\n",
       "    </tr>\n",
       "  </tbody>\n",
       "</table>\n",
       "<p>297 rows × 14 columns</p>\n",
       "</div>"
      ],
      "text/plain": [
       "     age  sex  cp  trestbps  chol  fbs  restecg  thalach  exang  oldpeak  \\\n",
       "0     69    1   0       160   234    1        2      131      0      0.1   \n",
       "1     69    0   0       140   239    0        0      151      0      1.8   \n",
       "2     66    0   0       150   226    0        0      114      0      2.6   \n",
       "3     65    1   0       138   282    1        2      174      0      1.4   \n",
       "4     64    1   0       110   211    0        2      144      1      1.8   \n",
       "..   ...  ...  ..       ...   ...  ...      ...      ...    ...      ...   \n",
       "292   40    1   3       152   223    0        0      181      0      0.0   \n",
       "293   39    1   3       118   219    0        0      140      0      1.2   \n",
       "294   35    1   3       120   198    0        0      130      1      1.6   \n",
       "295   35    0   3       138   183    0        0      182      0      1.4   \n",
       "296   35    1   3       126   282    0        2      156      1      0.0   \n",
       "\n",
       "     slope  ca  thal  condition  \n",
       "0        1   1     0          0  \n",
       "1        0   2     0          0  \n",
       "2        2   0     0          0  \n",
       "3        1   1     0          1  \n",
       "4        1   0     0          0  \n",
       "..     ...  ..   ...        ...  \n",
       "292      0   0     2          1  \n",
       "293      1   0     2          1  \n",
       "294      1   0     2          1  \n",
       "295      0   0     0          0  \n",
       "296      0   0     2          1  \n",
       "\n",
       "[297 rows x 14 columns]"
      ]
     },
     "execution_count": 39,
     "metadata": {},
     "output_type": "execute_result"
    }
   ],
   "source": [
    "# Realizamos Lectura de los Datos para el analisis exploratorio\n",
    "\n",
    "Datos.head(298)"
   ]
  },
  {
   "cell_type": "code",
   "execution_count": 37,
   "id": "a720aaf2-321e-4395-9b7b-b5daf703e620",
   "metadata": {},
   "outputs": [
    {
     "data": {
      "text/html": [
       "<div>\n",
       "<style scoped>\n",
       "    .dataframe tbody tr th:only-of-type {\n",
       "        vertical-align: middle;\n",
       "    }\n",
       "\n",
       "    .dataframe tbody tr th {\n",
       "        vertical-align: top;\n",
       "    }\n",
       "\n",
       "    .dataframe thead th {\n",
       "        text-align: right;\n",
       "    }\n",
       "</style>\n",
       "<table border=\"1\" class=\"dataframe\">\n",
       "  <thead>\n",
       "    <tr style=\"text-align: right;\">\n",
       "      <th></th>\n",
       "      <th>age</th>\n",
       "      <th>sex</th>\n",
       "      <th>cp</th>\n",
       "      <th>trestbps</th>\n",
       "      <th>chol</th>\n",
       "      <th>fbs</th>\n",
       "      <th>restecg</th>\n",
       "      <th>thalach</th>\n",
       "      <th>exang</th>\n",
       "      <th>oldpeak</th>\n",
       "      <th>slope</th>\n",
       "      <th>ca</th>\n",
       "      <th>thal</th>\n",
       "      <th>condition</th>\n",
       "    </tr>\n",
       "  </thead>\n",
       "  <tbody>\n",
       "    <tr>\n",
       "      <th>count</th>\n",
       "      <td>297.000000</td>\n",
       "      <td>297.000000</td>\n",
       "      <td>297.000000</td>\n",
       "      <td>297.000000</td>\n",
       "      <td>297.000000</td>\n",
       "      <td>297.000000</td>\n",
       "      <td>297.000000</td>\n",
       "      <td>297.000000</td>\n",
       "      <td>297.000000</td>\n",
       "      <td>297.000000</td>\n",
       "      <td>297.000000</td>\n",
       "      <td>297.000000</td>\n",
       "      <td>297.000000</td>\n",
       "      <td>297.000000</td>\n",
       "    </tr>\n",
       "    <tr>\n",
       "      <th>mean</th>\n",
       "      <td>54.542088</td>\n",
       "      <td>0.676768</td>\n",
       "      <td>2.158249</td>\n",
       "      <td>131.693603</td>\n",
       "      <td>247.350168</td>\n",
       "      <td>0.144781</td>\n",
       "      <td>0.996633</td>\n",
       "      <td>149.599327</td>\n",
       "      <td>0.326599</td>\n",
       "      <td>1.055556</td>\n",
       "      <td>0.602694</td>\n",
       "      <td>0.676768</td>\n",
       "      <td>0.835017</td>\n",
       "      <td>0.461279</td>\n",
       "    </tr>\n",
       "    <tr>\n",
       "      <th>std</th>\n",
       "      <td>9.049736</td>\n",
       "      <td>0.468500</td>\n",
       "      <td>0.964859</td>\n",
       "      <td>17.762806</td>\n",
       "      <td>51.997583</td>\n",
       "      <td>0.352474</td>\n",
       "      <td>0.994914</td>\n",
       "      <td>22.941562</td>\n",
       "      <td>0.469761</td>\n",
       "      <td>1.166123</td>\n",
       "      <td>0.618187</td>\n",
       "      <td>0.938965</td>\n",
       "      <td>0.956690</td>\n",
       "      <td>0.499340</td>\n",
       "    </tr>\n",
       "    <tr>\n",
       "      <th>min</th>\n",
       "      <td>29.000000</td>\n",
       "      <td>0.000000</td>\n",
       "      <td>0.000000</td>\n",
       "      <td>94.000000</td>\n",
       "      <td>126.000000</td>\n",
       "      <td>0.000000</td>\n",
       "      <td>0.000000</td>\n",
       "      <td>71.000000</td>\n",
       "      <td>0.000000</td>\n",
       "      <td>0.000000</td>\n",
       "      <td>0.000000</td>\n",
       "      <td>0.000000</td>\n",
       "      <td>0.000000</td>\n",
       "      <td>0.000000</td>\n",
       "    </tr>\n",
       "    <tr>\n",
       "      <th>25%</th>\n",
       "      <td>48.000000</td>\n",
       "      <td>0.000000</td>\n",
       "      <td>2.000000</td>\n",
       "      <td>120.000000</td>\n",
       "      <td>211.000000</td>\n",
       "      <td>0.000000</td>\n",
       "      <td>0.000000</td>\n",
       "      <td>133.000000</td>\n",
       "      <td>0.000000</td>\n",
       "      <td>0.000000</td>\n",
       "      <td>0.000000</td>\n",
       "      <td>0.000000</td>\n",
       "      <td>0.000000</td>\n",
       "      <td>0.000000</td>\n",
       "    </tr>\n",
       "    <tr>\n",
       "      <th>50%</th>\n",
       "      <td>56.000000</td>\n",
       "      <td>1.000000</td>\n",
       "      <td>2.000000</td>\n",
       "      <td>130.000000</td>\n",
       "      <td>243.000000</td>\n",
       "      <td>0.000000</td>\n",
       "      <td>1.000000</td>\n",
       "      <td>153.000000</td>\n",
       "      <td>0.000000</td>\n",
       "      <td>0.800000</td>\n",
       "      <td>1.000000</td>\n",
       "      <td>0.000000</td>\n",
       "      <td>0.000000</td>\n",
       "      <td>0.000000</td>\n",
       "    </tr>\n",
       "    <tr>\n",
       "      <th>75%</th>\n",
       "      <td>61.000000</td>\n",
       "      <td>1.000000</td>\n",
       "      <td>3.000000</td>\n",
       "      <td>140.000000</td>\n",
       "      <td>276.000000</td>\n",
       "      <td>0.000000</td>\n",
       "      <td>2.000000</td>\n",
       "      <td>166.000000</td>\n",
       "      <td>1.000000</td>\n",
       "      <td>1.600000</td>\n",
       "      <td>1.000000</td>\n",
       "      <td>1.000000</td>\n",
       "      <td>2.000000</td>\n",
       "      <td>1.000000</td>\n",
       "    </tr>\n",
       "    <tr>\n",
       "      <th>max</th>\n",
       "      <td>77.000000</td>\n",
       "      <td>1.000000</td>\n",
       "      <td>3.000000</td>\n",
       "      <td>200.000000</td>\n",
       "      <td>564.000000</td>\n",
       "      <td>1.000000</td>\n",
       "      <td>2.000000</td>\n",
       "      <td>202.000000</td>\n",
       "      <td>1.000000</td>\n",
       "      <td>6.200000</td>\n",
       "      <td>2.000000</td>\n",
       "      <td>3.000000</td>\n",
       "      <td>2.000000</td>\n",
       "      <td>1.000000</td>\n",
       "    </tr>\n",
       "  </tbody>\n",
       "</table>\n",
       "</div>"
      ],
      "text/plain": [
       "              age         sex          cp    trestbps        chol         fbs  \\\n",
       "count  297.000000  297.000000  297.000000  297.000000  297.000000  297.000000   \n",
       "mean    54.542088    0.676768    2.158249  131.693603  247.350168    0.144781   \n",
       "std      9.049736    0.468500    0.964859   17.762806   51.997583    0.352474   \n",
       "min     29.000000    0.000000    0.000000   94.000000  126.000000    0.000000   \n",
       "25%     48.000000    0.000000    2.000000  120.000000  211.000000    0.000000   \n",
       "50%     56.000000    1.000000    2.000000  130.000000  243.000000    0.000000   \n",
       "75%     61.000000    1.000000    3.000000  140.000000  276.000000    0.000000   \n",
       "max     77.000000    1.000000    3.000000  200.000000  564.000000    1.000000   \n",
       "\n",
       "          restecg     thalach       exang     oldpeak       slope          ca  \\\n",
       "count  297.000000  297.000000  297.000000  297.000000  297.000000  297.000000   \n",
       "mean     0.996633  149.599327    0.326599    1.055556    0.602694    0.676768   \n",
       "std      0.994914   22.941562    0.469761    1.166123    0.618187    0.938965   \n",
       "min      0.000000   71.000000    0.000000    0.000000    0.000000    0.000000   \n",
       "25%      0.000000  133.000000    0.000000    0.000000    0.000000    0.000000   \n",
       "50%      1.000000  153.000000    0.000000    0.800000    1.000000    0.000000   \n",
       "75%      2.000000  166.000000    1.000000    1.600000    1.000000    1.000000   \n",
       "max      2.000000  202.000000    1.000000    6.200000    2.000000    3.000000   \n",
       "\n",
       "             thal   condition  \n",
       "count  297.000000  297.000000  \n",
       "mean     0.835017    0.461279  \n",
       "std      0.956690    0.499340  \n",
       "min      0.000000    0.000000  \n",
       "25%      0.000000    0.000000  \n",
       "50%      0.000000    0.000000  \n",
       "75%      2.000000    1.000000  \n",
       "max      2.000000    1.000000  "
      ]
     },
     "execution_count": 37,
     "metadata": {},
     "output_type": "execute_result"
    }
   ],
   "source": [
    "# Descripción de los datos\n",
    "Datos.describe()"
   ]
  },
  {
   "cell_type": "code",
   "execution_count": 65,
   "id": "c9cc4202-f57f-46fd-b7f1-4eb143495225",
   "metadata": {},
   "outputs": [
    {
     "data": {
      "text/plain": [
       "Text(0.5, 1.0, 'Identificación de Datos Faltantes y Atipicos')"
      ]
     },
     "execution_count": 65,
     "metadata": {},
     "output_type": "execute_result"
    },
    {
     "data": {
      "image/png": "[encoded data removed]",
      "text/plain": [
       "<Figure size 600x300 with 1 Axes>"
      ]
     },
     "metadata": {},
     "output_type": "display_data"
    }
   ],
   "source": [
    "#Identificación de Datos Faltantes y Atípicos\n",
    "\n",
    "plt.figure(figsize=(6, 3))\n",
    "sns.boxplot(x=Datos['age'])\n",
    "plt.title('Identificación de Datos Faltantes y Atipicos', fontsize=10 )"
   ]
  },
  {
   "cell_type": "code",
   "execution_count": 47,
   "id": "0eeb955e-322d-4b50-9b6c-c116d66c1efb",
   "metadata": {},
   "outputs": [
    {
     "data": {
      "text/plain": [
       "Text(0.5, 1.0, 'Identificación de Datos Faltantes y Atipicos')"
      ]
     },
     "execution_count": 47,
     "metadata": {},
     "output_type": "execute_result"
    },
    {
     "data": {
      "image/png": "[encoded data removed]",
      "text/plain": [
       "<Figure size 600x300 with 1 Axes>"
      ]
     },
     "metadata": {},
     "output_type": "display_data"
    }
   ],
   "source": [
    "#Identificación de Datos Faltantes y Atípicos\n",
    "\n",
    "plt.figure(figsize=(6, 3))\n",
    "sns.boxplot(x=Datos['trestbps'])\n",
    "plt.title('Identificación de Datos Faltantes y Atipicos', fontsize=10 )"
   ]
  },
  {
   "cell_type": "code",
   "execution_count": 61,
   "id": "f60d0e99-6695-457f-8b71-df873e895900",
   "metadata": {},
   "outputs": [
    {
     "data": {
      "text/plain": [
       "Text(0.5, 1.0, 'Identificación de Datos Faltantes y Atipicos')"
      ]
     },
     "execution_count": 61,
     "metadata": {},
     "output_type": "execute_result"
    },
    {
     "data": {
      "image/png": "[encoded data removed]",
      "text/plain": [
       "<Figure size 600x300 with 1 Axes>"
      ]
     },
     "metadata": {},
     "output_type": "display_data"
    }
   ],
   "source": [
    "#Identificación de Datos Faltantes y Atípicos\n",
    "\n",
    "plt.figure(figsize=(6, 3))\n",
    "sns.boxplot(x=Datos['chol'])\n",
    "plt.title('Identificación de Datos Faltantes y Atipicos', fontsize=10 )"
   ]
  },
  {
   "cell_type": "code",
   "execution_count": 63,
   "id": "521fbf16-7739-4433-9511-a208751e919c",
   "metadata": {},
   "outputs": [
    {
     "data": {
      "text/plain": [
       "Text(0.5, 1.0, 'Identificación de Datos Faltantes y Atipicos')"
      ]
     },
     "execution_count": 63,
     "metadata": {},
     "output_type": "execute_result"
    },
    {
     "data": {
      "image/png": "[encoded data removed]",
      "text/plain": [
       "<Figure size 600x300 with 1 Axes>"
      ]
     },
     "metadata": {},
     "output_type": "display_data"
    }
   ],
   "source": [
    "#Identificación de Datos Faltantes y Atípicos\n",
    "\n",
    "plt.figure(figsize=(6, 3))\n",
    "sns.boxplot(x=Datos['thalach'])\n",
    "plt.title('Identificación de Datos Faltantes y Atipicos', fontsize=10 )"
   ]
  },
  {
   "cell_type": "code",
   "execution_count": null,
   "id": "fd2091fd-41b4-4cb5-9166-8763b778921e",
   "metadata": {},
   "outputs": [],
   "source": [
    "2) Preprocesar los datos limpiándolos, tratando valores faltantes y \n",
    "transformándolos según sea necesario. "
   ]
  },
  {
   "cell_type": "code",
   "execution_count": 67,
   "id": "87530f84-dbcf-4e32-8210-313b08408c04",
   "metadata": {},
   "outputs": [
    {
     "name": "stdout",
     "output_type": "stream",
     "text": [
      "Cantidad de Registros con cero en Pesión Arterial:  0\n",
      "Cantidad de Registros con cero en Colesterol Serico:  0\n",
      "Cantidad de Registros con cero en Frecuencia Cardiaca:  0\n",
      "Cantidad de Registros con cero en Depresión del Segmento:  96\n"
     ]
    }
   ],
   "source": [
    "#Revisión de Datos faltantes\n",
    "\n",
    "print(\"Cantidad de Registros con cero en Pesión Arterial: \",Datos['trestbps'].isin([0]).sum())\n",
    "print(\"Cantidad de Registros con cero en Colesterol Serico: \",Datos['chol'].isin([0]).sum())\n",
    "print(\"Cantidad de Registros con cero en Frecuencia Cardiaca: \",Datos['thalach'].isin([0]).sum())\n",
    "print(\"Cantidad de Registros con cero en Depresión del Segmento: \",Datos['oldpeak'].isin([0]).sum())"
   ]
  },
  {
   "cell_type": "code",
   "execution_count": 77,
   "id": "d5840946-4ed9-44b2-9fe0-15c2fe82c0f1",
   "metadata": {},
   "outputs": [],
   "source": [
    "# Reemplazar todos los ceros con el valor medio (promedio) de la columna.\n",
    "\n",
    "Datos['oldpeak']=Datos['oldpeak'].replace(0,Datos['oldpeak'].mean())"
   ]
  },
  {
   "cell_type": "code",
   "execution_count": 75,
   "id": "a577e75c-dc08-4461-9e53-c663d3165b29",
   "metadata": {},
   "outputs": [
    {
     "name": "stdout",
     "output_type": "stream",
     "text": [
      "Cantidad de Registros con cero en Pesión Arterial:  0\n",
      "Cantidad de Registros con cero en Colesterol Serico:  0\n",
      "Cantidad de Registros con cero en Frecuencia Cardiaca:  0\n",
      "Cantidad de Registros con cero en Depresión del Segmento:  0\n"
     ]
    }
   ],
   "source": [
    "#Revisión Nuevamente de Datos faltantes\n",
    "\n",
    "print(\"Cantidad de Registros con cero en Pesión Arterial: \",Datos['trestbps'].isin([0]).sum())\n",
    "print(\"Cantidad de Registros con cero en Colesterol Serico: \",Datos['chol'].isin([0]).sum())\n",
    "print(\"Cantidad de Registros con cero en Frecuencia Cardiaca: \",Datos['thalach'].isin([0]).sum())\n",
    "print(\"Cantidad de Registros con cero en Depresión del Segmento: \",Datos['oldpeak'].isin([0]).sum())"
   ]
  },
  {
   "cell_type": "code",
   "execution_count": 79,
   "id": "5eb635e8-399f-48f3-9365-07dc933e4926",
   "metadata": {},
   "outputs": [
    {
     "data": {
      "text/plain": [
       "Text(0.5, 1.0, 'Identificación de Datos Atípicos')"
      ]
     },
     "execution_count": 79,
     "metadata": {},
     "output_type": "execute_result"
    },
    {
     "data": {
      "image/png": "[encoded data removed]",
      "text/plain": [
       "<Figure size 600x300 with 1 Axes>"
      ]
     },
     "metadata": {},
     "output_type": "display_data"
    }
   ],
   "source": [
    "#Identificación de Datos Atípicos\n",
    "\n",
    "plt.figure(figsize=(6, 3))\n",
    "sns.boxplot(x=Datos['trestbps'])\n",
    "plt.title('Identificación de Datos Atípicos', fontsize=10)"
   ]
  },
  {
   "cell_type": "code",
   "execution_count": 88,
   "id": "bbf25984-523a-4e22-8269-e03f63164535",
   "metadata": {},
   "outputs": [
    {
     "name": "stdout",
     "output_type": "stream",
     "text": [
      "El total de datos atípicos es 28\n"
     ]
    }
   ],
   "source": [
    "#Conteo de Datos Atípicos\n",
    "\n",
    "nivel_minimo=80\n",
    "nivel_maximo=155\n",
    "Total_Atipicos=((Datos['trestbps']<nivel_minimo)|(Datos['trestbps']>nivel_maximo)).sum()\n",
    "print(\"El total de datos atípicos es {}\".format(Total_Atipicos))"
   ]
  },
  {
   "cell_type": "code",
   "execution_count": 90,
   "id": "b29c42a3-2db5-4024-aa2b-81062da7b84f",
   "metadata": {},
   "outputs": [],
   "source": [
    "# Filtar Datos Atípicos\n",
    "\n",
    "Datos=Datos[(Datos['trestbps']<nivel_maximo)&(Datos['trestbps']>nivel_minimo)]"
   ]
  },
  {
   "cell_type": "code",
   "execution_count": 92,
   "id": "b6dc4e19-c8a4-423b-95ae-a977880c0d0a",
   "metadata": {},
   "outputs": [
    {
     "name": "stdout",
     "output_type": "stream",
     "text": [
      "El total de datos atípicos es 0\n"
     ]
    }
   ],
   "source": [
    "# Validar si se removieron los datos atípicos\n",
    "\n",
    "Total_Atipicos=((Datos['trestbps']<nivel_minimo)|(Datos['trestbps']>nivel_maximo)).sum()\n",
    "print(\"El total de datos atípicos es {}\".format(Total_Atipicos))"
   ]
  },
  {
   "cell_type": "code",
   "execution_count": 94,
   "id": "7e3d147a-5dcf-4859-9e1a-4758348e5974",
   "metadata": {
    "scrolled": true
   },
   "outputs": [
    {
     "name": "stdout",
     "output_type": "stream",
     "text": [
      "<class 'pandas.core.frame.DataFrame'>\n",
      "Index: 268 entries, 1 to 296\n",
      "Data columns (total 14 columns):\n",
      " #   Column     Non-Null Count  Dtype  \n",
      "---  ------     --------------  -----  \n",
      " 0   age        268 non-null    int64  \n",
      " 1   sex        268 non-null    int64  \n",
      " 2   cp         268 non-null    int64  \n",
      " 3   trestbps   268 non-null    int64  \n",
      " 4   chol       268 non-null    int64  \n",
      " 5   fbs        268 non-null    int64  \n",
      " 6   restecg    268 non-null    int64  \n",
      " 7   thalach    268 non-null    int64  \n",
      " 8   exang      268 non-null    int64  \n",
      " 9   oldpeak    268 non-null    float64\n",
      " 10  slope      268 non-null    int64  \n",
      " 11  ca         268 non-null    int64  \n",
      " 12  thal       268 non-null    int64  \n",
      " 13  condition  268 non-null    int64  \n",
      "dtypes: float64(1), int64(13)\n",
      "memory usage: 31.4 KB\n"
     ]
    }
   ],
   "source": [
    "#Revisión del tipo de datos y datos faltantes\n",
    "\n",
    "Datos.info()"
   ]
  },
  {
   "cell_type": "code",
   "execution_count": null,
   "id": "0025361b-c868-433a-97d6-94b37a679834",
   "metadata": {},
   "outputs": [],
   "source": [
    "3) Seleccionar las características más relevantes para entrenar el \n",
    "modelo utilizando selección de características."
   ]
  },
  {
   "cell_type": "code",
   "execution_count": null,
   "id": "c3203fde-27eb-4280-a10a-0d4fab92d8ba",
   "metadata": {},
   "outputs": [],
   "source": [
    "Caracteristica de interes\n",
    "\n",
    "* Enfermedad Cardiaca: si la persona tiene presencia de enfermedad cardiaca o no (0 = sin enfermedad cardiaca- 1 = con enfermedad cardiaca)\n",
    "* Predecir si una persona puede tener presencia de enfermedad cardiaca"
   ]
  },
  {
   "cell_type": "code",
   "execution_count": 97,
   "id": "5abfd84c-60a8-4907-9f42-77c03e9eb158",
   "metadata": {},
   "outputs": [
    {
     "data": {
      "text/plain": [
       "condition\n",
       "0    149\n",
       "1    119\n",
       "Name: count, dtype: int64"
      ]
     },
     "execution_count": 97,
     "metadata": {},
     "output_type": "execute_result"
    }
   ],
   "source": [
    "# Total de personas con  presencia de enfermedad cardiaca\n",
    "\n",
    "Datos['condition'].value_counts()"
   ]
  },
  {
   "cell_type": "code",
   "execution_count": 99,
   "id": "c9519590-cc69-4581-a043-bfccb9e9694b",
   "metadata": {},
   "outputs": [
    {
     "data": {
      "text/html": [
       "<div>\n",
       "<style scoped>\n",
       "    .dataframe tbody tr th:only-of-type {\n",
       "        vertical-align: middle;\n",
       "    }\n",
       "\n",
       "    .dataframe tbody tr th {\n",
       "        vertical-align: top;\n",
       "    }\n",
       "\n",
       "    .dataframe thead th {\n",
       "        text-align: right;\n",
       "    }\n",
       "</style>\n",
       "<table border=\"1\" class=\"dataframe\">\n",
       "  <thead>\n",
       "    <tr style=\"text-align: right;\">\n",
       "      <th></th>\n",
       "      <th>condition</th>\n",
       "    </tr>\n",
       "  </thead>\n",
       "  <tbody>\n",
       "    <tr>\n",
       "      <th>1</th>\n",
       "      <td>0</td>\n",
       "    </tr>\n",
       "    <tr>\n",
       "      <th>2</th>\n",
       "      <td>0</td>\n",
       "    </tr>\n",
       "    <tr>\n",
       "      <th>3</th>\n",
       "      <td>1</td>\n",
       "    </tr>\n",
       "    <tr>\n",
       "      <th>4</th>\n",
       "      <td>0</td>\n",
       "    </tr>\n",
       "    <tr>\n",
       "      <th>6</th>\n",
       "      <td>0</td>\n",
       "    </tr>\n",
       "    <tr>\n",
       "      <th>...</th>\n",
       "      <td>...</td>\n",
       "    </tr>\n",
       "    <tr>\n",
       "      <th>292</th>\n",
       "      <td>1</td>\n",
       "    </tr>\n",
       "    <tr>\n",
       "      <th>293</th>\n",
       "      <td>1</td>\n",
       "    </tr>\n",
       "    <tr>\n",
       "      <th>294</th>\n",
       "      <td>1</td>\n",
       "    </tr>\n",
       "    <tr>\n",
       "      <th>295</th>\n",
       "      <td>0</td>\n",
       "    </tr>\n",
       "    <tr>\n",
       "      <th>296</th>\n",
       "      <td>1</td>\n",
       "    </tr>\n",
       "  </tbody>\n",
       "</table>\n",
       "<p>268 rows × 1 columns</p>\n",
       "</div>"
      ],
      "text/plain": [
       "     condition\n",
       "1            0\n",
       "2            0\n",
       "3            1\n",
       "4            0\n",
       "6            0\n",
       "..         ...\n",
       "292          1\n",
       "293          1\n",
       "294          1\n",
       "295          0\n",
       "296          1\n",
       "\n",
       "[268 rows x 1 columns]"
      ]
     },
     "execution_count": 99,
     "metadata": {},
     "output_type": "execute_result"
    }
   ],
   "source": [
    "Datos[['condition']].head(298)"
   ]
  },
  {
   "cell_type": "code",
   "execution_count": null,
   "id": "29a7269b-8a02-4e1d-8669-0e952701c4ee",
   "metadata": {},
   "outputs": [],
   "source": [
    "4) Dividir el dataset en Train y Test para evaluar correctamente el modelo."
   ]
  },
  {
   "cell_type": "code",
   "execution_count": null,
   "id": "2f0753f8-b41f-4e16-8b0a-97773619bd9d",
   "metadata": {},
   "outputs": [],
   "source": [
    "# Porcentaje de datos para entrenamiento (train) = 75% , y para prueba (test) = 25%\n",
    "\n",
    "# Se crean variables L y M para almacenar la información del entrenamiento\n",
    "\n",
    "L=Datos.drop('condition',axis=1) # Se cargan los datos de train sin los datos de la columna condition\n",
    "M=Datos['condition'] # Se cargan los datos de train con los datos de la columna condition\n",
    "\n",
    "#La función train_test_split crea una división de un conjutno de datos en dos bloques uno de entrenamiento y otro de prueba (train and test)\n",
    "L_train, L_test, M_train, M_test = train_test_split(L, M, test_size=0.25, stratify=M, random_state=0)\n"
   ]
  },
  {
   "cell_type": "code",
   "execution_count": 122,
   "id": "7151257f-ef31-425a-ab30-b05dd3ba685b",
   "metadata": {},
   "outputs": [
    {
     "name": "stdout",
     "output_type": "stream",
     "text": [
      "     age  sex  cp  trestbps  chol  fbs  restecg  thalach  exang   oldpeak  \\\n",
      "59    44    1   1       120   263    0        0      173      0  1.055556   \n",
      "180   63    0   3       150   407    0        2      154      0  4.000000   \n",
      "32    58    0   1       136   319    1        2      152      0  1.055556   \n",
      "87    64    1   2       140   335    0        0      158      0  1.055556   \n",
      "254   53    1   3       142   226    0        2      111      1  1.055556   \n",
      "..   ...  ...  ..       ...   ...  ...      ...      ...    ...       ...   \n",
      "277   45    1   3       142   309    0        2      147      1  1.055556   \n",
      "145   42    0   2       120   209    0        0      173      0  1.055556   \n",
      "39    56    1   1       130   221    0        2      163      0  1.055556   \n",
      "88    64    0   2       140   313    0        0      133      0  0.200000   \n",
      "67    41    0   1       126   306    0        0      163      0  1.055556   \n",
      "\n",
      "     slope  ca  thal  \n",
      "59       0   0     2  \n",
      "180      1   3     2  \n",
      "32       0   2     0  \n",
      "87       0   0     0  \n",
      "254      0   0     2  \n",
      "..     ...  ..   ...  \n",
      "277      1   3     2  \n",
      "145      1   0     0  \n",
      "39       0   0     2  \n",
      "88       0   0     2  \n",
      "67       0   0     0  \n",
      "\n",
      "[201 rows x 13 columns]\n"
     ]
    }
   ],
   "source": [
    "print (L_train)"
   ]
  },
  {
   "cell_type": "code",
   "execution_count": 124,
   "id": "e45023da-581f-4ec9-a70d-ec360efe8def",
   "metadata": {},
   "outputs": [
    {
     "name": "stdout",
     "output_type": "stream",
     "text": [
      "59     0\n",
      "180    1\n",
      "32     1\n",
      "87     1\n",
      "254    0\n",
      "      ..\n",
      "277    1\n",
      "145    0\n",
      "39     0\n",
      "88     0\n",
      "67     0\n",
      "Name: condition, Length: 201, dtype: int64\n"
     ]
    }
   ],
   "source": [
    "print (M_train)"
   ]
  },
  {
   "cell_type": "code",
   "execution_count": null,
   "id": "31f900b8-e3bb-422e-8156-7ea815b9b1b5",
   "metadata": {},
   "outputs": [],
   "source": [
    "5) Entrenar el modelo configurando los diferentes hiperparámetros."
   ]
  },
  {
   "cell_type": "code",
   "execution_count": 134,
   "id": "b95a9cc8-c034-46f2-b53d-2276acb47a1a",
   "metadata": {},
   "outputs": [],
   "source": [
    "# Construir el modelo de regresión logistica \n",
    "\n",
    "modelo_regresion=LogisticRegression(solver=\"liblinear\") # liblinear es una libreria para resolver probelmas lineales de clasificación y regresión\n",
    "modelo_regresion.fit (L_train , M_train)\n",
    "\n",
    "# Crea el modelo de prediccion\n",
    "Predicion=modelo_regresion.predict(L_test) # La función predict predice los valores a partir del conjunto de datos de la validación"
   ]
  },
  {
   "cell_type": "code",
   "execution_count": 136,
   "id": "7014e72e-3782-4b4f-ba6c-8c7b7eb32154",
   "metadata": {},
   "outputs": [
    {
     "name": "stdout",
     "output_type": "stream",
     "text": [
      "283    1\n",
      "192    1\n",
      "280    1\n",
      "213    1\n",
      "251    0\n",
      "      ..\n",
      "108    0\n",
      "249    0\n",
      "57     0\n",
      "27     0\n",
      "82     0\n",
      "Name: condition, Length: 67, dtype: int64\n"
     ]
    }
   ],
   "source": [
    "print (M_test)"
   ]
  },
  {
   "cell_type": "code",
   "execution_count": 138,
   "id": "5d4fcf46-ce13-4312-a80b-3afe1c971af6",
   "metadata": {},
   "outputs": [
    {
     "name": "stdout",
     "output_type": "stream",
     "text": [
      "[1 1 0 1 0 1 0 0 1 1 1 1 1 0 0 1 1 0 1 0 0 0 1 0 1 0 0 0 1 1 1 1 0 0 0 1 0\n",
      " 0 0 0 0 0 1 0 0 0 1 0 0 0 0 1 1 0 1 1 1 0 0 1 0 0 0 0 0 0 0]\n"
     ]
    }
   ],
   "source": [
    "print (Predicion)"
   ]
  },
  {
   "cell_type": "code",
   "execution_count": null,
   "id": "1785b717-ab9c-4a0f-88e0-582886d73bad",
   "metadata": {},
   "outputs": [],
   "source": [
    "6) Evaluar el desempeño del modelo en el conjunto de Test con métricas como precisión, recall, F1-score, etc."
   ]
  },
  {
   "cell_type": "code",
   "execution_count": 140,
   "id": "57639dc6-1730-46a7-8095-8af8152ca810",
   "metadata": {},
   "outputs": [
    {
     "name": "stdout",
     "output_type": "stream",
     "text": [
      "              precision    recall  f1-score   support\n",
      "\n",
      "           0       0.88      0.95      0.91        37\n",
      "           1       0.93      0.83      0.88        30\n",
      "\n",
      "    accuracy                           0.90        67\n",
      "   macro avg       0.90      0.89      0.89        67\n",
      "weighted avg       0.90      0.90      0.89        67\n",
      "\n"
     ]
    }
   ],
   "source": [
    "# Desempeño del modelo de regresión\n",
    "\n",
    "print(classification_report(M_test,Predicion))"
   ]
  },
  {
   "cell_type": "code",
   "execution_count": null,
   "id": "b89678d6-c5d3-4baf-ae9a-0b47edde1677",
   "metadata": {},
   "outputs": [],
   "source": [
    "7) Realizar las diferentes gráficas que permitan visualizar los resultados del modelo."
   ]
  },
  {
   "cell_type": "code",
   "execution_count": 142,
   "id": "daa6d5e4-bf4e-416e-af08-7afefdbaaf75",
   "metadata": {},
   "outputs": [
    {
     "data": {
      "text/plain": [
       "<sklearn.metrics._plot.confusion_matrix.ConfusionMatrixDisplay at 0x249514de600>"
      ]
     },
     "execution_count": 142,
     "metadata": {},
     "output_type": "execute_result"
    },
    {
     "data": {
      "image/png": "[encoded data removed]",
      "text/plain": [
       "<Figure size 640x480 with 2 Axes>"
      ]
     },
     "metadata": {},
     "output_type": "display_data"
    }
   ],
   "source": [
    "# Matrix de confusión del modelo \n",
    "\n",
    "cm=confusion_matrix(M_test,Predicion)\n",
    "disp=metrics.ConfusionMatrixDisplay(confusion_matrix=cm)\n",
    "disp.plot()"
   ]
  },
  {
   "cell_type": "code",
   "execution_count": 144,
   "id": "a673f128-5c47-4614-bb3e-29d656c6612d",
   "metadata": {},
   "outputs": [
    {
     "data": {
      "image/png": "[encoded data removed]",
      "text/plain": [
       "<Figure size 640x480 with 1 Axes>"
      ]
     },
     "metadata": {},
     "output_type": "display_data"
    }
   ],
   "source": [
    "# Curva de precisión del modelo\n",
    "\n",
    "from sklearn.metrics import RocCurveDisplay\n",
    "RocCurveDisplay.from_predictions(M_test, Predicion)\n",
    "plt.show()"
   ]
  },
  {
   "cell_type": "code",
   "execution_count": null,
   "id": "98c83efd-684b-4c5d-9046-e906bc7e0d59",
   "metadata": {},
   "outputs": [],
   "source": [
    "8) Interpretar, analizar y documentar los resultados obtenidos."
   ]
  },
  {
   "cell_type": "code",
   "execution_count": null,
   "id": "17bacfe7-f8b8-4b7c-b478-9b4f5e35db2b",
   "metadata": {},
   "outputs": [],
   "source": [
    "*En el Desempeño del Modelo se describe que:\n",
    "-Precisión: Esta mide la proporción de predicciones positivas verdaderas entre todas las predicciones positivas realizadas por el modelo; \n",
    "en la presencia de Enfermedad Cardiaca esta precisión es de 0,90, esto significa que el 90% de los predichos con enfermedad cardiaca en el modelo\n",
    "tenian esta enfermedad.\n",
    "-Recall: Aqui se mide la proporción de predicciones positivas verdaderas entre todas las instancias positivas reales en este conjunto de datos.\n",
    "En este recall para la clase de presencia de enfermedad cardiaca es 0,83 y esto nos indica que el 83% esta correctamente identificado en el modelo\n",
    "de todas las personas con esta enfermedad.\n",
    "-F1 Score: En esta media armonica de precisión y recuperación, nos proporciona una puntuación unica que equilibra la precisión y recall.\n",
    "La puntuación F1 Score para la clase de enfermedad cardiaca es 0,88, esto nos indica el equilibrio entre precisión y recuerdo."
   ]
  },
  {
   "cell_type": "code",
   "execution_count": null,
   "id": "b6272f22-3354-48bd-9648-c88dc86fcfee",
   "metadata": {},
   "outputs": [],
   "source": [
    "*En la Matrix de Confusión :\n",
    "El modelo de 35 veces que dijo que una persona no tenia presencia de enfermedad cardiaca siertamente no tenia la enfermedad, por el contrario\n",
    "el modelo dijo que 5 veces que una persona no tendria enfermedad cardiaca pero en realidad si iba a tener la enfermedad, por lo que acerto \n",
    "35 veces y erro 5; El modelo dijo que 25 veces la persona tiene presencia de enfermedad cardiaca y siertamente 25 veces la persona si tiene la\n",
    "enfermedad; El modelo dijo que 2 veces la persona tendria presencia de enfermedad cardiaca pero erro porque no tenian la enfermedad."
   ]
  },
  {
   "cell_type": "code",
   "execution_count": null,
   "id": "9210191e-12ff-48d2-bc9c-f11d6837f413",
   "metadata": {},
   "outputs": [],
   "source": [
    "*En la Curva de Precisión del Modelo:\n",
    "Se interpreta que el AUC es 0,89, esto significa que el 89% de las predicciones del clasificador son correctas en todos los umbrales de\n",
    "clasificación."
   ]
  }
 ],
 "metadata": {
  "kernelspec": {
   "display_name": "Python 3 (ipykernel)",
   "language": "python",
   "name": "python3"
  },
  "language_info": {
   "codemirror_mode": {
    "name": "ipython",
    "version": 3
   },
   "file_extension": ".py",
   "mimetype": "text/x-python",
   "name": "python",
   "nbconvert_exporter": "python",
   "pygments_lexer": "ipython3",
   "version": "3.12.4"
  }
 },
 "nbformat": 4,
 "nbformat_minor": 5
}
